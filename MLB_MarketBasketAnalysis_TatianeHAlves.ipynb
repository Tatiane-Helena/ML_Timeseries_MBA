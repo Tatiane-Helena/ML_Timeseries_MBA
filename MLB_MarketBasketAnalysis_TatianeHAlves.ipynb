{
 "cells": [
  {
   "cell_type": "code",
   "execution_count": null,
   "id": "d7fe2328-57d2-4d4e-aec3-5d53aa8194cc",
   "metadata": {},
   "outputs": [],
   "source": []
  }
 ],
 "metadata": {
  "kernelspec": {
   "display_name": "",
   "name": ""
  },
  "language_info": {
   "name": ""
  }
 },
 "nbformat": 4,
 "nbformat_minor": 5
}
